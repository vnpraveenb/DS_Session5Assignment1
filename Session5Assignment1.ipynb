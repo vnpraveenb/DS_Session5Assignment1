{
 "cells": [
  {
   "cell_type": "code",
   "execution_count": 2,
   "metadata": {},
   "outputs": [
    {
     "name": "stdout",
     "output_type": "stream",
     "text": [
      "Provide two numbers to perform division\n",
      "ZeroDivisionError: Division by Zero is not allowed\n"
     ]
    }
   ],
   "source": [
    "# Write a function to compute 5/0 and use try/except to catch the exceptions.\n",
    "\n",
    "def divide(number1, number2):\n",
    "    try:\n",
    "        return number1/number2\n",
    "    except ZeroDivisionError:\n",
    "        return \"ZeroDivisionError: Division by Zero is not allowed\"\n",
    "    \n",
    "\n",
    "print(\"Provide two numbers to perform division\")\n",
    "try:\n",
    "    num1 = int(input(\"Input the numerator: \"))\n",
    "    num2 = int(input(\"Input the denominator: \"))\n",
    "    print(divide(num1,num2))\n",
    "except ValueError:\n",
    "    print(\"String is not allowed as an input\")\n",
    "\n",
    " "
   ]
  },
  {
   "cell_type": "code",
   "execution_count": null,
   "metadata": {},
   "outputs": [],
   "source": []
  }
 ],
 "metadata": {
  "kernelspec": {
   "display_name": "Python 3",
   "language": "python",
   "name": "python3"
  },
  "language_info": {
   "codemirror_mode": {
    "name": "ipython",
    "version": 3
   },
   "file_extension": ".py",
   "mimetype": "text/x-python",
   "name": "python",
   "nbconvert_exporter": "python",
   "pygments_lexer": "ipython3",
   "version": "3.6.4"
  }
 },
 "nbformat": 4,
 "nbformat_minor": 2
}
